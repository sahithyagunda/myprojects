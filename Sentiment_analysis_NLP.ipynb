{
  "metadata": {
    "kernelspec": {
      "language": "python",
      "display_name": "Python 3",
      "name": "python3"
    },
    "language_info": {
      "name": "python",
      "version": "3.10.13",
      "mimetype": "text/x-python",
      "codemirror_mode": {
        "name": "ipython",
        "version": 3
      },
      "pygments_lexer": "ipython3",
      "nbconvert_exporter": "python",
      "file_extension": ".py"
    },
    "kaggle": {
      "accelerator": "none",
      "dataSources": [
        {
          "sourceId": 2510329,
          "sourceType": "datasetVersion",
          "datasetId": 1520310
        }
      ],
      "dockerImageVersionId": 30746,
      "isInternetEnabled": true,
      "language": "python",
      "sourceType": "notebook",
      "isGpuEnabled": false
    },
    "colab": {
      "name": "Sentiment analysis - NLP",
      "provenance": [],
      "include_colab_link": true
    }
  },
  "nbformat_minor": 0,
  "nbformat": 4,
  "cells": [
    {
      "cell_type": "markdown",
      "metadata": {
        "id": "view-in-github",
        "colab_type": "text"
      },
      "source": [
        "<a href=\"https://colab.research.google.com/github/sahithyagunda/myprojects/blob/main/Sentiment_analysis_NLP.ipynb\" target=\"_parent\"><img src=\"https://colab.research.google.com/assets/colab-badge.svg\" alt=\"Open In Colab\"/></a>"
      ]
    },
    {
      "source": [
        "# IMPORTANT: RUN THIS CELL IN ORDER TO IMPORT YOUR KAGGLE DATA SOURCES,\n",
        "# THEN FEEL FREE TO DELETE THIS CELL.\n",
        "# NOTE: THIS NOTEBOOK ENVIRONMENT DIFFERS FROM KAGGLE'S PYTHON\n",
        "# ENVIRONMENT SO THERE MAY BE MISSING LIBRARIES USED BY YOUR\n",
        "# NOTEBOOK.\n",
        "import kagglehub\n",
        "jp797498e_twitter_entity_sentiment_analysis_path = kagglehub.dataset_download('jp797498e/twitter-entity-sentiment-analysis')\n",
        "\n",
        "print('Data source import complete.')\n"
      ],
      "metadata": {
        "id": "4-RpC495wFG7"
      },
      "cell_type": "code",
      "outputs": [],
      "execution_count": null
    },
    {
      "cell_type": "code",
      "source": [
        "import os\n",
        "for dirname, _, filenames in os.walk('/kaggle/input'):\n",
        "    for filename in filenames:\n",
        "        print(os.path.join(dirname, filename))"
      ],
      "metadata": {
        "execution": {
          "iopub.status.busy": "2024-07-27T08:17:21.798977Z",
          "iopub.execute_input": "2024-07-27T08:17:21.799371Z",
          "iopub.status.idle": "2024-07-27T08:17:21.849752Z",
          "shell.execute_reply.started": "2024-07-27T08:17:21.799341Z",
          "shell.execute_reply": "2024-07-27T08:17:21.848473Z"
        },
        "trusted": true,
        "id": "2XDTB7n4wFG8"
      },
      "outputs": [],
      "execution_count": null
    },
    {
      "cell_type": "markdown",
      "source": [
        "# Importing Dependencies"
      ],
      "metadata": {
        "id": "YFC9M-YqwFG8"
      }
    },
    {
      "cell_type": "code",
      "source": [
        "import pandas as pd\n",
        "import numpy as np\n",
        "import matplotlib.pyplot as plt\n",
        "import seaborn as sns\n",
        "import nltk\n",
        "import string\n",
        "import warnings\n",
        "from nltk.stem.porter import PorterStemmer\n",
        "from wordcloud import WordCloud\n",
        "from collections import Counter\n",
        "from sklearn.preprocessing import LabelEncoder\n",
        "from sklearn.naive_bayes import MultinomialNB\n",
        "from sklearn.ensemble import RandomForestClassifier\n",
        "from sklearn.metrics import accuracy_score,precision_score,confusion_matrix\n",
        "from sklearn.feature_extraction.text import CountVectorizer\n",
        "from sklearn.naive_bayes import GaussianNB,MultinomialNB,BernoulliNB\n",
        "from sklearn.ensemble import RandomForestClassifier\n",
        "from sklearn.tree import DecisionTreeClassifier\n",
        "from sklearn.ensemble import AdaBoostClassifier\n",
        "from sklearn.ensemble import BaggingClassifier\n",
        "from sklearn.ensemble import ExtraTreesClassifier\n",
        "from sklearn.ensemble import GradientBoostingClassifier\n",
        "from xgboost import XGBClassifier\n",
        "from sklearn.svm import SVC\n",
        "from sklearn.neighbors import KNeighborsClassifier\n",
        "from sklearn.linear_model import LogisticRegression\n",
        "\n",
        "\n",
        "### creating Instances\n",
        "\n",
        "mnb = MultinomialNB()\n",
        "rfc = RandomForestClassifier()\n",
        "ps = PorterStemmer()\n",
        "encoder = LabelEncoder()\n",
        "cv = CountVectorizer()\n",
        "mnb = MultinomialNB()\n",
        "rfc = RandomForestClassifier()\n",
        "warnings.filterwarnings('ignore')"
      ],
      "metadata": {
        "execution": {
          "iopub.status.busy": "2024-07-27T08:18:01.267123Z",
          "iopub.execute_input": "2024-07-27T08:18:01.267542Z",
          "iopub.status.idle": "2024-07-27T08:18:04.094816Z",
          "shell.execute_reply.started": "2024-07-27T08:18:01.26751Z",
          "shell.execute_reply": "2024-07-27T08:18:04.093582Z"
        },
        "trusted": true,
        "id": "uDtCXGN6wFG9"
      },
      "outputs": [],
      "execution_count": null
    },
    {
      "cell_type": "markdown",
      "source": [
        "# Loading Datasets"
      ],
      "metadata": {
        "id": "oDgKf2jDwFG9"
      }
    },
    {
      "cell_type": "code",
      "source": [
        "train_df = pd.read_csv('/kaggle/input/twitter-entity-sentiment-analysis/twitter_training.csv')\n",
        "val_df = pd.read_csv('/kaggle/input/twitter-entity-sentiment-analysis/twitter_validation.csv')"
      ],
      "metadata": {
        "execution": {
          "iopub.status.busy": "2024-07-27T08:18:05.923652Z",
          "iopub.execute_input": "2024-07-27T08:18:05.924266Z",
          "iopub.status.idle": "2024-07-27T08:18:06.352429Z",
          "shell.execute_reply.started": "2024-07-27T08:18:05.924227Z",
          "shell.execute_reply": "2024-07-27T08:18:06.351037Z"
        },
        "trusted": true,
        "id": "ltr2Amf0wFG9"
      },
      "outputs": [],
      "execution_count": null
    },
    {
      "cell_type": "markdown",
      "source": [
        "**Adding column names**"
      ],
      "metadata": {
        "id": "ygbVdp4twFG9"
      }
    },
    {
      "cell_type": "code",
      "source": [
        "train_df.columns = ['id','Entity','Sentiment','Tweet']\n",
        "val_df.columns = ['id','Entity','Sentiment','Tweet']"
      ],
      "metadata": {
        "execution": {
          "iopub.status.busy": "2024-07-27T08:18:11.333623Z",
          "iopub.execute_input": "2024-07-27T08:18:11.334021Z",
          "iopub.status.idle": "2024-07-27T08:18:11.340439Z",
          "shell.execute_reply.started": "2024-07-27T08:18:11.333986Z",
          "shell.execute_reply": "2024-07-27T08:18:11.339175Z"
        },
        "trusted": true,
        "id": "K415RCc9wFG-"
      },
      "outputs": [],
      "execution_count": null
    },
    {
      "cell_type": "code",
      "source": [
        "train_df['Entity'].unique()"
      ],
      "metadata": {
        "execution": {
          "iopub.status.busy": "2024-07-27T08:18:12.179591Z",
          "iopub.execute_input": "2024-07-27T08:18:12.180073Z",
          "iopub.status.idle": "2024-07-27T08:18:12.20735Z",
          "shell.execute_reply.started": "2024-07-27T08:18:12.180033Z",
          "shell.execute_reply": "2024-07-27T08:18:12.206093Z"
        },
        "trusted": true,
        "id": "DdJhRfMTwFG-"
      },
      "outputs": [],
      "execution_count": null
    },
    {
      "cell_type": "code",
      "source": [
        "print(train_df['Sentiment'].unique())\n",
        "print(val_df['Sentiment'].unique())"
      ],
      "metadata": {
        "execution": {
          "iopub.status.busy": "2024-07-27T08:18:12.992456Z",
          "iopub.execute_input": "2024-07-27T08:18:12.992874Z",
          "iopub.status.idle": "2024-07-27T08:18:13.00645Z",
          "shell.execute_reply.started": "2024-07-27T08:18:12.992839Z",
          "shell.execute_reply": "2024-07-27T08:18:13.005193Z"
        },
        "trusted": true,
        "id": "sAzYErdSwFG-"
      },
      "outputs": [],
      "execution_count": null
    },
    {
      "cell_type": "markdown",
      "source": [
        "# Concatinating training and validation datasets"
      ],
      "metadata": {
        "id": "c2cW6xaVwFG-"
      }
    },
    {
      "cell_type": "code",
      "source": [
        "data = pd.concat([train_df,val_df],ignore_index = True)"
      ],
      "metadata": {
        "execution": {
          "iopub.status.busy": "2024-07-27T08:18:14.851733Z",
          "iopub.execute_input": "2024-07-27T08:18:14.852198Z",
          "iopub.status.idle": "2024-07-27T08:18:14.864223Z",
          "shell.execute_reply.started": "2024-07-27T08:18:14.852164Z",
          "shell.execute_reply": "2024-07-27T08:18:14.862411Z"
        },
        "trusted": true,
        "id": "mcr7vNlhwFG-"
      },
      "outputs": [],
      "execution_count": null
    },
    {
      "cell_type": "code",
      "source": [
        "data.shape"
      ],
      "metadata": {
        "execution": {
          "iopub.status.busy": "2024-07-27T08:18:16.098322Z",
          "iopub.execute_input": "2024-07-27T08:18:16.099665Z",
          "iopub.status.idle": "2024-07-27T08:18:16.107143Z",
          "shell.execute_reply.started": "2024-07-27T08:18:16.099616Z",
          "shell.execute_reply": "2024-07-27T08:18:16.106089Z"
        },
        "trusted": true,
        "id": "Ygvs0GOHwFG-"
      },
      "outputs": [],
      "execution_count": null
    },
    {
      "cell_type": "code",
      "source": [
        "data = data.dropna() ## drpping null values"
      ],
      "metadata": {
        "execution": {
          "iopub.status.busy": "2024-07-27T08:18:16.904092Z",
          "iopub.execute_input": "2024-07-27T08:18:16.904985Z",
          "iopub.status.idle": "2024-07-27T08:18:16.952414Z",
          "shell.execute_reply.started": "2024-07-27T08:18:16.904944Z",
          "shell.execute_reply": "2024-07-27T08:18:16.950942Z"
        },
        "trusted": true,
        "id": "RQQmda-jwFG-"
      },
      "outputs": [],
      "execution_count": null
    },
    {
      "cell_type": "code",
      "source": [
        "data.isnull().sum()"
      ],
      "metadata": {
        "execution": {
          "iopub.status.busy": "2024-07-27T08:18:17.726121Z",
          "iopub.execute_input": "2024-07-27T08:18:17.726553Z",
          "iopub.status.idle": "2024-07-27T08:18:17.76455Z",
          "shell.execute_reply.started": "2024-07-27T08:18:17.726519Z",
          "shell.execute_reply": "2024-07-27T08:18:17.7634Z"
        },
        "trusted": true,
        "id": "lP2SjwsbwFG_"
      },
      "outputs": [],
      "execution_count": null
    },
    {
      "cell_type": "code",
      "source": [
        "data.duplicated().sum() ### checking for duplicates"
      ],
      "metadata": {
        "execution": {
          "iopub.status.busy": "2024-07-27T08:18:18.645844Z",
          "iopub.execute_input": "2024-07-27T08:18:18.646288Z",
          "iopub.status.idle": "2024-07-27T08:18:18.722455Z",
          "shell.execute_reply.started": "2024-07-27T08:18:18.646253Z",
          "shell.execute_reply": "2024-07-27T08:18:18.721198Z"
        },
        "trusted": true,
        "id": "Y5y7VtbCwFG_"
      },
      "outputs": [],
      "execution_count": null
    },
    {
      "cell_type": "code",
      "source": [
        "data = data.drop_duplicates(keep = 'first') ## dropping duplicates"
      ],
      "metadata": {
        "execution": {
          "iopub.status.busy": "2024-07-27T08:18:19.580473Z",
          "iopub.execute_input": "2024-07-27T08:18:19.580875Z",
          "iopub.status.idle": "2024-07-27T08:18:19.652112Z",
          "shell.execute_reply.started": "2024-07-27T08:18:19.580841Z",
          "shell.execute_reply": "2024-07-27T08:18:19.650602Z"
        },
        "trusted": true,
        "id": "YJU7JhsxwFG_"
      },
      "outputs": [],
      "execution_count": null
    },
    {
      "cell_type": "code",
      "source": [
        "data.duplicated().sum()"
      ],
      "metadata": {
        "execution": {
          "iopub.status.busy": "2024-07-27T08:18:20.724344Z",
          "iopub.execute_input": "2024-07-27T08:18:20.724745Z",
          "iopub.status.idle": "2024-07-27T08:18:20.78984Z",
          "shell.execute_reply.started": "2024-07-27T08:18:20.724714Z",
          "shell.execute_reply": "2024-07-27T08:18:20.788481Z"
        },
        "trusted": true,
        "id": "GCI-zFM6wFG_"
      },
      "outputs": [],
      "execution_count": null
    },
    {
      "cell_type": "code",
      "source": [
        "data.info() ## checking type of attributes"
      ],
      "metadata": {
        "execution": {
          "iopub.status.busy": "2024-07-27T08:18:21.59943Z",
          "iopub.execute_input": "2024-07-27T08:18:21.59984Z",
          "iopub.status.idle": "2024-07-27T08:18:21.642895Z",
          "shell.execute_reply.started": "2024-07-27T08:18:21.599807Z",
          "shell.execute_reply": "2024-07-27T08:18:21.641751Z"
        },
        "trusted": true,
        "id": "h4nLQPH4wFG_"
      },
      "outputs": [],
      "execution_count": null
    },
    {
      "cell_type": "markdown",
      "source": [
        "**As id is an identifier which is used to classify each item uniquely in these analysis we have index we dont want these column for now and Entity represents the keywords in tweet these might not an important column**\n",
        "\n",
        "**Dropping ID and Entity**"
      ],
      "metadata": {
        "id": "SrL8WPm_wFG_"
      }
    },
    {
      "cell_type": "code",
      "source": [
        "data = data.drop(columns = ['id','Entity'])"
      ],
      "metadata": {
        "execution": {
          "iopub.status.busy": "2024-07-27T08:18:23.231413Z",
          "iopub.execute_input": "2024-07-27T08:18:23.231859Z",
          "iopub.status.idle": "2024-07-27T08:18:23.244327Z",
          "shell.execute_reply.started": "2024-07-27T08:18:23.231823Z",
          "shell.execute_reply": "2024-07-27T08:18:23.243077Z"
        },
        "trusted": true,
        "id": "vfo77z9mwFG_"
      },
      "outputs": [],
      "execution_count": null
    },
    {
      "cell_type": "code",
      "source": [
        "target_counts = data['Sentiment'].value_counts()"
      ],
      "metadata": {
        "execution": {
          "iopub.status.busy": "2024-07-27T08:18:23.960558Z",
          "iopub.execute_input": "2024-07-27T08:18:23.960987Z",
          "iopub.status.idle": "2024-07-27T08:18:23.978728Z",
          "shell.execute_reply.started": "2024-07-27T08:18:23.96095Z",
          "shell.execute_reply": "2024-07-27T08:18:23.9773Z"
        },
        "trusted": true,
        "id": "tb8oNRHiwFG_"
      },
      "outputs": [],
      "execution_count": null
    },
    {
      "cell_type": "code",
      "source": [
        "plt.figure(figsize = (10,6))\n",
        "sns.countplot(x = 'Sentiment',data = data)\n",
        "plt.title('Distribution of Sentiments')\n",
        "plt.xlabel ('Sentiments')\n",
        "plt.ylabel('Frequency')\n",
        "plt.show()"
      ],
      "metadata": {
        "execution": {
          "iopub.status.busy": "2024-07-27T08:18:24.67439Z",
          "iopub.execute_input": "2024-07-27T08:18:24.674851Z",
          "iopub.status.idle": "2024-07-27T08:18:25.038399Z",
          "shell.execute_reply.started": "2024-07-27T08:18:24.674814Z",
          "shell.execute_reply": "2024-07-27T08:18:25.03721Z"
        },
        "trusted": true,
        "id": "urUozQQIwFG_"
      },
      "outputs": [],
      "execution_count": null
    },
    {
      "cell_type": "code",
      "source": [
        "from nltk.corpus import stopwords                   #### importing stopwords\n",
        "stop_wrds =  stopwords.words('english')             ### creating instances for stopwords and punctuations\n",
        "punctuations = string.punctuation"
      ],
      "metadata": {
        "execution": {
          "iopub.status.busy": "2024-07-27T08:18:25.430587Z",
          "iopub.execute_input": "2024-07-27T08:18:25.431022Z",
          "iopub.status.idle": "2024-07-27T08:18:25.443747Z",
          "shell.execute_reply.started": "2024-07-27T08:18:25.430988Z",
          "shell.execute_reply": "2024-07-27T08:18:25.442534Z"
        },
        "trusted": true,
        "id": "pVFP0nlKwFG_"
      },
      "outputs": [],
      "execution_count": null
    },
    {
      "cell_type": "code",
      "source": [
        "data.head(3)"
      ],
      "metadata": {
        "execution": {
          "iopub.status.busy": "2024-07-27T08:18:26.324261Z",
          "iopub.execute_input": "2024-07-27T08:18:26.325495Z",
          "iopub.status.idle": "2024-07-27T08:18:26.341946Z",
          "shell.execute_reply.started": "2024-07-27T08:18:26.325452Z",
          "shell.execute_reply": "2024-07-27T08:18:26.340328Z"
        },
        "trusted": true,
        "id": "YZSuHbWpwFG_"
      },
      "outputs": [],
      "execution_count": null
    },
    {
      "cell_type": "markdown",
      "source": [
        "# Defining a Function that Transforms Text"
      ],
      "metadata": {
        "id": "RQWM4JXXwFHA"
      }
    },
    {
      "cell_type": "code",
      "source": [
        "def transform_text(text):\n",
        "    text = text.lower()\n",
        "    text = nltk.word_tokenize(text)\n",
        "\n",
        "    y = []\n",
        "\n",
        "    for i in text:\n",
        "        if i.isalnum():\n",
        "            y.append(i)\n",
        "\n",
        "    text = y[:]\n",
        "    y.clear()\n",
        "\n",
        "    for i in text:\n",
        "        if i not in stop_wrds and i not in punctuations:\n",
        "            y.append(i)\n",
        "\n",
        "    text = y[:]\n",
        "    y.clear()\n",
        "\n",
        "    for i in text:\n",
        "        y.append(ps.stem(i))\n",
        "\n",
        "    return \" \".join(y)"
      ],
      "metadata": {
        "execution": {
          "iopub.status.busy": "2024-07-27T08:18:27.880664Z",
          "iopub.execute_input": "2024-07-27T08:18:27.881368Z",
          "iopub.status.idle": "2024-07-27T08:18:27.890308Z",
          "shell.execute_reply.started": "2024-07-27T08:18:27.881329Z",
          "shell.execute_reply": "2024-07-27T08:18:27.888909Z"
        },
        "trusted": true,
        "id": "KkGhOen2wFHA"
      },
      "outputs": [],
      "execution_count": null
    },
    {
      "cell_type": "code",
      "source": [
        "data['cleaned_tweet'] = data['Tweet'].apply(transform_text)"
      ],
      "metadata": {
        "execution": {
          "iopub.status.busy": "2024-07-27T08:18:28.807193Z",
          "iopub.execute_input": "2024-07-27T08:18:28.807573Z",
          "iopub.status.idle": "2024-07-27T08:19:32.056121Z",
          "shell.execute_reply.started": "2024-07-27T08:18:28.807544Z",
          "shell.execute_reply": "2024-07-27T08:19:32.054652Z"
        },
        "trusted": true,
        "id": "iqlqOXLIwFHA"
      },
      "outputs": [],
      "execution_count": null
    },
    {
      "cell_type": "markdown",
      "source": [
        "# Function to remove emojis"
      ],
      "metadata": {
        "id": "GefHbtegwFHA"
      }
    },
    {
      "cell_type": "code",
      "source": [
        "import re\n",
        "def remove_emojis(text):\n",
        "    if not isinstance(text, str):\n",
        "        return text\n",
        "    emoji_pattern = re.compile(\n",
        "        \"[\"\n",
        "        u\"\\U0001F600-\\U0001F64F\"  # emoticons\n",
        "        u\"\\U0001F300-\\U0001F5FF\"  # symbols & pictographs\n",
        "        u\"\\U0001F680-\\U0001F6FF\"  # transport & map symbols\n",
        "        u\"\\U0001F1E0-\\U0001F1FF\"  # flags (iOS)\n",
        "        u\"\\U00002702-\\U000027B0\"  # other emojis\n",
        "        u\"\\U000024C2-\\U0001F251\"\n",
        "        \"]+\", flags=re.UNICODE\n",
        "    )\n",
        "    return emoji_pattern.sub(r'', text)"
      ],
      "metadata": {
        "execution": {
          "iopub.status.busy": "2024-07-26T13:30:14.82701Z",
          "iopub.execute_input": "2024-07-26T13:30:14.827419Z",
          "iopub.status.idle": "2024-07-26T13:30:14.835707Z",
          "shell.execute_reply.started": "2024-07-26T13:30:14.827387Z",
          "shell.execute_reply": "2024-07-26T13:30:14.834315Z"
        },
        "trusted": true,
        "id": "qfxk2RZMwFHA"
      },
      "outputs": [],
      "execution_count": null
    },
    {
      "cell_type": "code",
      "source": [
        "data['cleaned_tweet']=data['cleaned_tweet'].apply(remove_emojis)"
      ],
      "metadata": {
        "execution": {
          "iopub.status.busy": "2024-07-26T13:30:25.533775Z",
          "iopub.execute_input": "2024-07-26T13:30:25.534177Z",
          "iopub.status.idle": "2024-07-26T13:30:26.049516Z",
          "shell.execute_reply.started": "2024-07-26T13:30:25.534148Z",
          "shell.execute_reply": "2024-07-26T13:30:26.048484Z"
        },
        "trusted": true,
        "id": "JgZ258MewFHA"
      },
      "outputs": [],
      "execution_count": null
    },
    {
      "cell_type": "code",
      "source": [
        "data = data.drop(columns = ['Tweet'])   ### dropping original column of tweet"
      ],
      "metadata": {
        "execution": {
          "iopub.status.busy": "2024-07-26T13:30:27.250469Z",
          "iopub.execute_input": "2024-07-26T13:30:27.251223Z",
          "iopub.status.idle": "2024-07-26T13:30:27.261907Z",
          "shell.execute_reply.started": "2024-07-26T13:30:27.251186Z",
          "shell.execute_reply": "2024-07-26T13:30:27.260469Z"
        },
        "trusted": true,
        "id": "1I-_8xMiwFHA"
      },
      "outputs": [],
      "execution_count": null
    },
    {
      "cell_type": "markdown",
      "source": [
        "# Label Encoding"
      ],
      "metadata": {
        "id": "v_CRyOT4wFHA"
      }
    },
    {
      "cell_type": "code",
      "source": [
        "data['Sentiment'] = encoder.fit_transform(data['Sentiment'])"
      ],
      "metadata": {
        "execution": {
          "iopub.status.busy": "2024-07-26T13:30:29.650417Z",
          "iopub.execute_input": "2024-07-26T13:30:29.651751Z",
          "iopub.status.idle": "2024-07-26T13:30:29.677824Z",
          "shell.execute_reply.started": "2024-07-26T13:30:29.651712Z",
          "shell.execute_reply": "2024-07-26T13:30:29.676544Z"
        },
        "trusted": true,
        "id": "3Zv77UIEwFHA"
      },
      "outputs": [],
      "execution_count": null
    },
    {
      "cell_type": "code",
      "source": [
        "data['Sentiment'].value_counts() ### 1 - Negative\n",
        "                                 ### 2 - Neutral\n",
        "                                 ### 3 - Positive\n",
        "                                 ### 4 - Irrelevant"
      ],
      "metadata": {
        "execution": {
          "iopub.status.busy": "2024-07-26T13:30:38.592211Z",
          "iopub.execute_input": "2024-07-26T13:30:38.592658Z",
          "iopub.status.idle": "2024-07-26T13:30:38.6058Z",
          "shell.execute_reply.started": "2024-07-26T13:30:38.592624Z",
          "shell.execute_reply": "2024-07-26T13:30:38.604396Z"
        },
        "trusted": true,
        "id": "WvAcMddxwFHA"
      },
      "outputs": [],
      "execution_count": null
    },
    {
      "cell_type": "markdown",
      "source": [
        "# Visualizing the most common words using the WordCloud"
      ],
      "metadata": {
        "id": "wgb2QszNwFHA"
      }
    },
    {
      "cell_type": "code",
      "source": [
        "wc = WordCloud(width = 500,height = 500,background_color = 'white')"
      ],
      "metadata": {
        "execution": {
          "iopub.status.busy": "2024-07-26T13:30:40.765277Z",
          "iopub.execute_input": "2024-07-26T13:30:40.765753Z",
          "iopub.status.idle": "2024-07-26T13:30:40.771613Z",
          "shell.execute_reply.started": "2024-07-26T13:30:40.765719Z",
          "shell.execute_reply": "2024-07-26T13:30:40.77022Z"
        },
        "trusted": true,
        "id": "JNDbVCGWwFHA"
      },
      "outputs": [],
      "execution_count": null
    },
    {
      "cell_type": "code",
      "source": [
        "neg_wc = wc.generate(data[data['Sentiment']==1]['cleaned_tweet'].str.cat(sep = \" \"))\n",
        "plt.imshow(neg_wc)"
      ],
      "metadata": {
        "execution": {
          "iopub.status.busy": "2024-07-26T13:30:42.083456Z",
          "iopub.execute_input": "2024-07-26T13:30:42.083901Z",
          "iopub.status.idle": "2024-07-26T13:30:45.378057Z",
          "shell.execute_reply.started": "2024-07-26T13:30:42.083862Z",
          "shell.execute_reply": "2024-07-26T13:30:45.376761Z"
        },
        "trusted": true,
        "id": "UWHPNLTawFHB"
      },
      "outputs": [],
      "execution_count": null
    },
    {
      "cell_type": "code",
      "source": [
        "neu_wc = wc.generate(data[data['Sentiment']==2]['cleaned_tweet'].str.cat(sep = \" \"))\n",
        "plt.imshow(neu_wc)"
      ],
      "metadata": {
        "execution": {
          "iopub.status.busy": "2024-07-26T13:30:47.067163Z",
          "iopub.execute_input": "2024-07-26T13:30:47.06759Z",
          "iopub.status.idle": "2024-07-26T13:30:50.030885Z",
          "shell.execute_reply.started": "2024-07-26T13:30:47.067557Z",
          "shell.execute_reply": "2024-07-26T13:30:50.0295Z"
        },
        "trusted": true,
        "id": "PoUJQJqMwFHB"
      },
      "outputs": [],
      "execution_count": null
    },
    {
      "cell_type": "code",
      "source": [
        "pos_wc = wc.generate(data[data['Sentiment']==3]['cleaned_tweet'].str.cat(sep = \" \"))\n",
        "plt.imshow(pos_wc)"
      ],
      "metadata": {
        "execution": {
          "iopub.status.busy": "2024-07-26T13:30:51.552063Z",
          "iopub.execute_input": "2024-07-26T13:30:51.552525Z",
          "iopub.status.idle": "2024-07-26T13:30:54.375693Z",
          "shell.execute_reply.started": "2024-07-26T13:30:51.552486Z",
          "shell.execute_reply": "2024-07-26T13:30:54.374488Z"
        },
        "trusted": true,
        "id": "1SFFpex4wFHG"
      },
      "outputs": [],
      "execution_count": null
    },
    {
      "cell_type": "code",
      "source": [
        "irr_wc = wc.generate(data[data['Sentiment']==0]['cleaned_tweet'].str.cat(sep=\" \"))\n",
        "plt.imshow(irr_wc)"
      ],
      "metadata": {
        "execution": {
          "iopub.status.busy": "2024-07-26T13:30:56.488684Z",
          "iopub.execute_input": "2024-07-26T13:30:56.489135Z",
          "iopub.status.idle": "2024-07-26T13:30:58.897245Z",
          "shell.execute_reply.started": "2024-07-26T13:30:56.489098Z",
          "shell.execute_reply": "2024-07-26T13:30:58.89586Z"
        },
        "trusted": true,
        "id": "JzFTtqptwFHG"
      },
      "outputs": [],
      "execution_count": null
    },
    {
      "cell_type": "markdown",
      "source": [
        "# creating corpus to each sentiment"
      ],
      "metadata": {
        "id": "AtQNy5vAwFHG"
      }
    },
    {
      "cell_type": "code",
      "source": [
        "neg_corpus = []\n",
        "for i in data[data['Sentiment']==1]['cleaned_tweet'].tolist():\n",
        "    for words in i.split():\n",
        "        neg_corpus.append(words)\n",
        "print(len(neg_corpus))\n",
        "\n",
        "neu_corpus = []\n",
        "for i in data[data['Sentiment']==2]['cleaned_tweet'].tolist():\n",
        "    for words in i.split():\n",
        "        neu_corpus.append(words)\n",
        "print(len(neu_corpus))\n",
        "\n",
        "pos_corpus = []\n",
        "for i in data[data['Sentiment']==3]['cleaned_tweet'].tolist():\n",
        "    for words in i.split():\n",
        "        pos_corpus.append(words)\n",
        "print(len(pos_corpus))\n",
        "\n",
        "irr_corpus = []\n",
        "for i in data[data['Sentiment']==0]['cleaned_tweet'].tolist():\n",
        "    for words in i.split():\n",
        "        irr_corpus.append(words)\n",
        "len(irr_corpus)\n"
      ],
      "metadata": {
        "execution": {
          "iopub.status.busy": "2024-07-26T09:36:27.098366Z",
          "iopub.execute_input": "2024-07-26T09:36:27.098815Z",
          "iopub.status.idle": "2024-07-26T09:36:27.277753Z",
          "shell.execute_reply.started": "2024-07-26T09:36:27.098783Z",
          "shell.execute_reply": "2024-07-26T09:36:27.276575Z"
        },
        "trusted": true,
        "id": "k6Ps2sPLwFHG"
      },
      "outputs": [],
      "execution_count": null
    },
    {
      "cell_type": "markdown",
      "source": [
        "# Visualizing the most commonly occured words"
      ],
      "metadata": {
        "id": "nAlRT4V2wFHH"
      }
    },
    {
      "cell_type": "code",
      "source": [
        "negative_word_count = Counter(neg_corpus).most_common(30)\n",
        "negative_word_table = pd.DataFrame(negative_word_count,columns = ['word','count'])\n",
        "plt.figure(figsize = (10,6))\n",
        "sns.barplot(x = 'word',y='count',data = negative_word_table)\n",
        "plt.title(\"Counter of Negative corpus plot\")\n",
        "plt.xlabel('words')\n",
        "plt.ylabel('count')\n",
        "plt.xticks(rotation = 'vertical')\n",
        "plt.show()"
      ],
      "metadata": {
        "execution": {
          "iopub.status.busy": "2024-07-26T09:44:45.220891Z",
          "iopub.execute_input": "2024-07-26T09:44:45.221325Z",
          "iopub.status.idle": "2024-07-26T09:44:45.75109Z",
          "shell.execute_reply.started": "2024-07-26T09:44:45.221292Z",
          "shell.execute_reply": "2024-07-26T09:44:45.749734Z"
        },
        "trusted": true,
        "id": "PU7hRXf3wFHH"
      },
      "outputs": [],
      "execution_count": null
    },
    {
      "cell_type": "code",
      "source": [
        "neutral_word_count = Counter(neu_corpus).most_common(30)\n",
        "neutral_word_table = pd.DataFrame(neutral_word_count,columns = ['word','count'])\n",
        "plt.figure(figsize = (10,6))\n",
        "sns.barplot(x = 'word',y = 'count',data =neutral_word_table )\n",
        "plt.title(\"counter of neutral word\")\n",
        "plt.xlabel('words')\n",
        "plt.ylabel('count')\n",
        "plt.xticks(rotation = 'vertical')\n",
        "plt.show()"
      ],
      "metadata": {
        "execution": {
          "iopub.status.busy": "2024-07-26T09:57:25.510313Z",
          "iopub.execute_input": "2024-07-26T09:57:25.510807Z",
          "iopub.status.idle": "2024-07-26T09:57:27.074252Z",
          "shell.execute_reply.started": "2024-07-26T09:57:25.510766Z",
          "shell.execute_reply": "2024-07-26T09:57:27.073018Z"
        },
        "trusted": true,
        "id": "WK1Cghe8wFHH"
      },
      "outputs": [],
      "execution_count": null
    },
    {
      "cell_type": "code",
      "source": [
        "positive_word_count = Counter(pos_corpus).most_common(30)\n",
        "postive_word_table = pd.DataFrame(positive_word_count,columns = ['word','count'])\n",
        "plt.figure(figsize = (10,6))\n",
        "sns.barplot(x = 'word',y = 'count',data =postive_word_table )\n",
        "plt.title('counter of positive words')\n",
        "plt.xlabel('words')\n",
        "plt.ylabel('count')\n",
        "plt.xticks(rotation = 'vertical')\n",
        "plt.show()"
      ],
      "metadata": {
        "execution": {
          "iopub.status.busy": "2024-07-26T09:57:43.028759Z",
          "iopub.execute_input": "2024-07-26T09:57:43.029147Z",
          "iopub.status.idle": "2024-07-26T09:57:43.505007Z",
          "shell.execute_reply.started": "2024-07-26T09:57:43.029115Z",
          "shell.execute_reply": "2024-07-26T09:57:43.503843Z"
        },
        "trusted": true,
        "id": "8p4uUjKEwFHH"
      },
      "outputs": [],
      "execution_count": null
    },
    {
      "cell_type": "code",
      "source": [
        "irrelevant_word_count = Counter(irr_corpus).most_common(30)\n",
        "irrelevant_word_table = pd.DataFrame(irrelevant_word_count,columns = ['word','count'])\n",
        "plt.figure(figsize = (10,6))\n",
        "sns.barplot(x = 'word',y = 'count',data = irrelevant_word_table )\n",
        "plt.xlabel('words')\n",
        "plt.ylabel('count')\n",
        "plt.xticks(rotation = 'vertical')\n",
        "plt.show()"
      ],
      "metadata": {
        "execution": {
          "iopub.status.busy": "2024-07-26T09:59:06.18343Z",
          "iopub.execute_input": "2024-07-26T09:59:06.184177Z",
          "iopub.status.idle": "2024-07-26T09:59:06.610814Z",
          "shell.execute_reply.started": "2024-07-26T09:59:06.184135Z",
          "shell.execute_reply": "2024-07-26T09:59:06.609749Z"
        },
        "trusted": true,
        "id": "2fNTXjd2wFHH"
      },
      "outputs": [],
      "execution_count": null
    },
    {
      "cell_type": "markdown",
      "source": [
        "**Transforming the tweets using countvectorizer and converting it to array**"
      ],
      "metadata": {
        "id": "hQ6YSQONwFHH"
      }
    },
    {
      "cell_type": "code",
      "source": [
        "X = cv.fit_transform(data['cleaned_tweet']).toarray()"
      ],
      "metadata": {
        "execution": {
          "iopub.status.busy": "2024-07-26T13:31:14.184115Z",
          "iopub.execute_input": "2024-07-26T13:31:14.184587Z",
          "iopub.status.idle": "2024-07-26T13:31:17.41397Z",
          "shell.execute_reply.started": "2024-07-26T13:31:14.184549Z",
          "shell.execute_reply": "2024-07-26T13:31:17.412831Z"
        },
        "trusted": true,
        "id": "-MX3y6wWwFHI"
      },
      "outputs": [],
      "execution_count": null
    },
    {
      "cell_type": "code",
      "source": [
        "X.shape"
      ],
      "metadata": {
        "execution": {
          "iopub.status.busy": "2024-07-26T13:31:19.029808Z",
          "iopub.execute_input": "2024-07-26T13:31:19.030216Z",
          "iopub.status.idle": "2024-07-26T13:31:19.037904Z",
          "shell.execute_reply.started": "2024-07-26T13:31:19.030182Z",
          "shell.execute_reply": "2024-07-26T13:31:19.036457Z"
        },
        "trusted": true,
        "id": "NYnMyf4zwFHI"
      },
      "outputs": [],
      "execution_count": null
    },
    {
      "cell_type": "code",
      "source": [
        "y = data['Sentiment'].values"
      ],
      "metadata": {
        "execution": {
          "iopub.status.busy": "2024-07-26T13:31:20.170251Z",
          "iopub.execute_input": "2024-07-26T13:31:20.171025Z",
          "iopub.status.idle": "2024-07-26T13:31:20.17619Z",
          "shell.execute_reply.started": "2024-07-26T13:31:20.17099Z",
          "shell.execute_reply": "2024-07-26T13:31:20.174881Z"
        },
        "trusted": true,
        "id": "N59_nVWWwFHI"
      },
      "outputs": [],
      "execution_count": null
    },
    {
      "cell_type": "code",
      "source": [
        "y"
      ],
      "metadata": {
        "execution": {
          "iopub.status.busy": "2024-07-26T13:31:21.468142Z",
          "iopub.execute_input": "2024-07-26T13:31:21.468558Z",
          "iopub.status.idle": "2024-07-26T13:31:21.476594Z",
          "shell.execute_reply.started": "2024-07-26T13:31:21.468527Z",
          "shell.execute_reply": "2024-07-26T13:31:21.475177Z"
        },
        "trusted": true,
        "id": "n00Phvf1wFHI"
      },
      "outputs": [],
      "execution_count": null
    },
    {
      "cell_type": "markdown",
      "source": [
        "**splitting the data into train an test datasets**"
      ],
      "metadata": {
        "id": "0h52R3ppwFHI"
      }
    },
    {
      "cell_type": "code",
      "source": [
        "from sklearn.model_selection import train_test_split\n",
        "X_train,X_test,y_train,y_test = train_test_split(X,y,random_state = 24,test_size = 0.3)"
      ],
      "metadata": {
        "execution": {
          "iopub.status.busy": "2024-07-26T13:31:24.199909Z",
          "iopub.execute_input": "2024-07-26T13:31:24.200351Z",
          "iopub.status.idle": "2024-07-26T13:31:33.828796Z",
          "shell.execute_reply.started": "2024-07-26T13:31:24.200305Z",
          "shell.execute_reply": "2024-07-26T13:31:33.827369Z"
        },
        "trusted": true,
        "id": "-7-OzT58wFHI"
      },
      "outputs": [],
      "execution_count": null
    },
    {
      "cell_type": "code",
      "source": [
        "print(X_train.shape)\n",
        "print(y_train.shape)\n",
        "print(X_test.shape)\n",
        "print(y_test.shape)"
      ],
      "metadata": {
        "execution": {
          "iopub.status.busy": "2024-07-26T13:31:37.838333Z",
          "iopub.execute_input": "2024-07-26T13:31:37.83873Z",
          "iopub.status.idle": "2024-07-26T13:31:37.845219Z",
          "shell.execute_reply.started": "2024-07-26T13:31:37.838701Z",
          "shell.execute_reply": "2024-07-26T13:31:37.843968Z"
        },
        "trusted": true,
        "id": "yn4p33wrwFHJ"
      },
      "outputs": [],
      "execution_count": null
    },
    {
      "cell_type": "code",
      "source": [
        "mnb.fit(X_train,y_train)\n",
        "y_pred = mnb.predict(X_test)\n",
        "print(accuracy_score(y_test,y_pred))\n",
        "print(confusion_matrix(y_test,y_pred))"
      ],
      "metadata": {
        "execution": {
          "iopub.status.busy": "2024-07-26T10:26:46.454559Z",
          "iopub.execute_input": "2024-07-26T10:26:46.454954Z",
          "iopub.status.idle": "2024-07-26T10:27:20.958642Z",
          "shell.execute_reply.started": "2024-07-26T10:26:46.454924Z",
          "shell.execute_reply": "2024-07-26T10:27:20.957244Z"
        },
        "trusted": true,
        "id": "zJC8yRJ8wFHJ"
      },
      "outputs": [],
      "execution_count": null
    },
    {
      "cell_type": "code",
      "source": [
        "rfc.fit(X_train,y_train)\n",
        "y_pred = mnb.predict(X_test)\n",
        "print(accuracy_score(y_test,y_pred))\n",
        "print(confusion_matrix(y_test,y_pred))"
      ],
      "metadata": {
        "execution": {
          "iopub.status.busy": "2024-07-26T10:27:52.296253Z",
          "iopub.execute_input": "2024-07-26T10:27:52.296619Z",
          "iopub.status.idle": "2024-07-26T10:43:59.924149Z",
          "shell.execute_reply.started": "2024-07-26T10:27:52.29659Z",
          "shell.execute_reply": "2024-07-26T10:43:59.922207Z"
        },
        "trusted": true,
        "id": "co_Ze9znwFHJ"
      },
      "outputs": [],
      "execution_count": null
    },
    {
      "cell_type": "markdown",
      "source": [
        "# **Try to run these cells**"
      ],
      "metadata": {
        "id": "E_kV-Fd8wFHJ"
      }
    },
    {
      "cell_type": "code",
      "source": [
        "clfs = {'SVC' : svc,\n",
        "    'KN' : knc,\n",
        "    'MNB': mnb,\n",
        "     'BNB':bnb,\n",
        "     'GNB':gnb,\n",
        "    'DT': dtc,\n",
        "    'LR': lrc,\n",
        "    'RF': rfc,\n",
        "    'AdaBoost': abc,\n",
        "    'BgC': bc,\n",
        "    'ETC': etc,\n",
        "    'GBDT':gbdt,\n",
        "    'xgb':xgb}"
      ],
      "metadata": {
        "execution": {
          "iopub.status.busy": "2024-07-26T13:26:29.200508Z",
          "iopub.execute_input": "2024-07-26T13:26:29.200939Z",
          "iopub.status.idle": "2024-07-26T13:26:29.208008Z",
          "shell.execute_reply.started": "2024-07-26T13:26:29.20091Z",
          "shell.execute_reply": "2024-07-26T13:26:29.206649Z"
        },
        "trusted": true,
        "id": "vfxJT6vcwFHK"
      },
      "outputs": [],
      "execution_count": null
    },
    {
      "cell_type": "code",
      "source": [
        "def train_classifier(clf,X_train,X_test,y_train,y_test):\n",
        "    clf.fit(X_train,y_train)\n",
        "    y_pred = clf.predict(X_test)\n",
        "    accuracy = accuracy_score(y_test,y_pred)\n",
        "    precision = precision_score(y_test,y_pred)\n",
        "    return accuracy,precision"
      ],
      "metadata": {
        "execution": {
          "iopub.status.busy": "2024-07-26T13:27:11.55868Z",
          "iopub.execute_input": "2024-07-26T13:27:11.559102Z",
          "iopub.status.idle": "2024-07-26T13:27:11.565809Z",
          "shell.execute_reply.started": "2024-07-26T13:27:11.559071Z",
          "shell.execute_reply": "2024-07-26T13:27:11.564366Z"
        },
        "trusted": true,
        "id": "0kCy52ypwFHK"
      },
      "outputs": [],
      "execution_count": null
    },
    {
      "cell_type": "code",
      "source": [
        "train_classifier(svc,X_train,X_test,y_train,y_test)"
      ],
      "metadata": {
        "execution": {
          "iopub.status.busy": "2024-07-26T13:31:50.496961Z",
          "iopub.execute_input": "2024-07-26T13:31:50.500759Z"
        },
        "trusted": true,
        "id": "TER_QgF6wFHK"
      },
      "outputs": [],
      "execution_count": null
    },
    {
      "cell_type": "code",
      "source": [],
      "metadata": {
        "id": "wGSXy0g5wFHK"
      },
      "outputs": [],
      "execution_count": null
    },
    {
      "cell_type": "code",
      "source": [],
      "metadata": {
        "id": "MJkAvTKnwFHK"
      },
      "outputs": [],
      "execution_count": null
    },
    {
      "cell_type": "code",
      "source": [],
      "metadata": {
        "id": "7Qk33rKkwFHK"
      },
      "outputs": [],
      "execution_count": null
    }
  ]
}